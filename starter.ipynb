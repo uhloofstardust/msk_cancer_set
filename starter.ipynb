{
 "cells": [
  {
   "cell_type": "code",
   "execution_count": 7,
   "id": "60410bca-f021-445f-b99f-fbdb4937a5ff",
   "metadata": {},
   "outputs": [],
   "source": [
    "import pandas as pd"
   ]
  },
  {
   "cell_type": "markdown",
   "id": "1504beb8-2d03-4c7b-9e18-f0e911c6a817",
   "metadata": {
    "jp-MarkdownHeadingCollapsed": true
   },
   "source": [
    "### importing data - training_variants and training_text"
   ]
  },
  {
   "cell_type": "code",
   "execution_count": 8,
   "id": "9366213e-a30a-4a0b-bc43-a34db76286bd",
   "metadata": {},
   "outputs": [
    {
     "name": "stdout",
     "output_type": "stream",
     "text": [
      "number of data points, features: (3321, 4)\n"
     ]
    },
    {
     "data": {
      "text/html": [
       "<div>\n",
       "<style scoped>\n",
       "    .dataframe tbody tr th:only-of-type {\n",
       "        vertical-align: middle;\n",
       "    }\n",
       "\n",
       "    .dataframe tbody tr th {\n",
       "        vertical-align: top;\n",
       "    }\n",
       "\n",
       "    .dataframe thead th {\n",
       "        text-align: right;\n",
       "    }\n",
       "</style>\n",
       "<table border=\"1\" class=\"dataframe\">\n",
       "  <thead>\n",
       "    <tr style=\"text-align: right;\">\n",
       "      <th></th>\n",
       "      <th>ID</th>\n",
       "      <th>Gene</th>\n",
       "      <th>Variation</th>\n",
       "      <th>Class</th>\n",
       "    </tr>\n",
       "  </thead>\n",
       "  <tbody>\n",
       "    <tr>\n",
       "      <th>0</th>\n",
       "      <td>0</td>\n",
       "      <td>FAM58A</td>\n",
       "      <td>Truncating Mutations</td>\n",
       "      <td>1</td>\n",
       "    </tr>\n",
       "    <tr>\n",
       "      <th>1</th>\n",
       "      <td>1</td>\n",
       "      <td>CBL</td>\n",
       "      <td>W802*</td>\n",
       "      <td>2</td>\n",
       "    </tr>\n",
       "    <tr>\n",
       "      <th>2</th>\n",
       "      <td>2</td>\n",
       "      <td>CBL</td>\n",
       "      <td>Q249E</td>\n",
       "      <td>2</td>\n",
       "    </tr>\n",
       "    <tr>\n",
       "      <th>3</th>\n",
       "      <td>3</td>\n",
       "      <td>CBL</td>\n",
       "      <td>N454D</td>\n",
       "      <td>3</td>\n",
       "    </tr>\n",
       "    <tr>\n",
       "      <th>4</th>\n",
       "      <td>4</td>\n",
       "      <td>CBL</td>\n",
       "      <td>L399V</td>\n",
       "      <td>4</td>\n",
       "    </tr>\n",
       "  </tbody>\n",
       "</table>\n",
       "</div>"
      ],
      "text/plain": [
       "   ID    Gene             Variation  Class\n",
       "0   0  FAM58A  Truncating Mutations      1\n",
       "1   1     CBL                 W802*      2\n",
       "2   2     CBL                 Q249E      2\n",
       "3   3     CBL                 N454D      3\n",
       "4   4     CBL                 L399V      4"
      ]
     },
     "execution_count": 8,
     "metadata": {},
     "output_type": "execute_result"
    }
   ],
   "source": [
    "data = pd.read_csv('./train_data/training_variants')\n",
    "print(f'number of data points, features: {data.shape}')\n",
    "data.head()"
   ]
  },
  {
   "cell_type": "code",
   "execution_count": 9,
   "id": "6d706a26-199d-4257-95f7-b8f3cc7000c3",
   "metadata": {},
   "outputs": [],
   "source": [
    "text_data = pd.read_csv(\"./train_data/training_text\", sep=\"\\|\\|\", names=[\"ID\",\"Text\"], skiprows=1, engine='python')"
   ]
  },
  {
   "cell_type": "code",
   "execution_count": 10,
   "id": "17cc6f3a-255b-432c-a09f-83a90ee0ef4b",
   "metadata": {},
   "outputs": [
    {
     "name": "stdout",
     "output_type": "stream",
     "text": [
      "shape: (3321, 2)\n",
      "\n"
     ]
    },
    {
     "data": {
      "text/html": [
       "<div>\n",
       "<style scoped>\n",
       "    .dataframe tbody tr th:only-of-type {\n",
       "        vertical-align: middle;\n",
       "    }\n",
       "\n",
       "    .dataframe tbody tr th {\n",
       "        vertical-align: top;\n",
       "    }\n",
       "\n",
       "    .dataframe thead th {\n",
       "        text-align: right;\n",
       "    }\n",
       "</style>\n",
       "<table border=\"1\" class=\"dataframe\">\n",
       "  <thead>\n",
       "    <tr style=\"text-align: right;\">\n",
       "      <th></th>\n",
       "      <th>ID</th>\n",
       "      <th>Text</th>\n",
       "    </tr>\n",
       "  </thead>\n",
       "  <tbody>\n",
       "    <tr>\n",
       "      <th>0</th>\n",
       "      <td>0</td>\n",
       "      <td>Cyclin-dependent kinases (CDKs) regulate a var...</td>\n",
       "    </tr>\n",
       "    <tr>\n",
       "      <th>1</th>\n",
       "      <td>1</td>\n",
       "      <td>Abstract Background  Non-small cell lung canc...</td>\n",
       "    </tr>\n",
       "    <tr>\n",
       "      <th>2</th>\n",
       "      <td>2</td>\n",
       "      <td>Abstract Background  Non-small cell lung canc...</td>\n",
       "    </tr>\n",
       "    <tr>\n",
       "      <th>3</th>\n",
       "      <td>3</td>\n",
       "      <td>Recent evidence has demonstrated that acquired...</td>\n",
       "    </tr>\n",
       "    <tr>\n",
       "      <th>4</th>\n",
       "      <td>4</td>\n",
       "      <td>Oncogenic mutations in the monomeric Casitas B...</td>\n",
       "    </tr>\n",
       "  </tbody>\n",
       "</table>\n",
       "</div>"
      ],
      "text/plain": [
       "   ID                                               Text\n",
       "0   0  Cyclin-dependent kinases (CDKs) regulate a var...\n",
       "1   1   Abstract Background  Non-small cell lung canc...\n",
       "2   2   Abstract Background  Non-small cell lung canc...\n",
       "3   3  Recent evidence has demonstrated that acquired...\n",
       "4   4  Oncogenic mutations in the monomeric Casitas B..."
      ]
     },
     "execution_count": 10,
     "metadata": {},
     "output_type": "execute_result"
    }
   ],
   "source": [
    "print(f'shape: {text_data.shape}\\n' )\n",
    "text_data.head()"
   ]
  },
  {
   "cell_type": "markdown",
   "id": "83e88537-5f99-4c4d-9be7-43ff2a16738d",
   "metadata": {
    "jp-MarkdownHeadingCollapsed": true
   },
   "source": [
    "### pre-processing of text"
   ]
  },
  {
   "cell_type": "code",
   "execution_count": 11,
   "id": "4ee55627-67cd-4179-96f8-399db09eba23",
   "metadata": {},
   "outputs": [
    {
     "name": "stderr",
     "output_type": "stream",
     "text": [
      "[nltk_data] Downloading package stopwords to /home/sanved/nltk_data...\n",
      "[nltk_data]   Package stopwords is already up-to-date!\n"
     ]
    },
    {
     "data": {
      "text/plain": [
       "True"
      ]
     },
     "execution_count": 11,
     "metadata": {},
     "output_type": "execute_result"
    }
   ],
   "source": [
    "import nltk\n",
    "nltk.download('stopwords')"
   ]
  },
  {
   "cell_type": "code",
   "execution_count": 12,
   "id": "a610dd33-9a7f-4f4b-bb6a-b677f9f64b57",
   "metadata": {},
   "outputs": [],
   "source": [
    "stop_words = nltk.corpus.stopwords.words('english')"
   ]
  },
  {
   "cell_type": "code",
   "execution_count": 13,
   "id": "13cad02b-ecd4-4248-9ac5-247b4d7474dc",
   "metadata": {},
   "outputs": [],
   "source": [
    "import re\n",
    "\n",
    "_special_char_pattern = re.compile(r'[^a-zA-Z0-9\\n]')\n",
    "_multi_space_pattern = re.compile(r'\\s+')"
   ]
  },
  {
   "cell_type": "code",
   "execution_count": 14,
   "id": "04a1af8e-518d-4366-b124-4fb0059918b8",
   "metadata": {},
   "outputs": [],
   "source": [
    "def nlp_preprocessing(total_text, index, column):\n",
    "    if not isinstance(total_text, str):\n",
    "        return\n",
    "\n",
    "    # Remove special characters\n",
    "    cleaned_text = _special_char_pattern.sub(' ', total_text)\n",
    "\n",
    "    # whitespace (if more than 2, convert to 1\n",
    "    cleaned_text = _multi_space_pattern.sub(' ', cleaned_text)\n",
    "\n",
    "    # lowercase\n",
    "    cleaned_text = cleaned_text.lower()\n",
    "\n",
    "    # stop words\n",
    "    words = [word for word in cleaned_text.split() if word not in stop_words]\n",
    "\n",
    "    # processed text \n",
    "    text_data.at[index, column] = ' '.join(words)\n"
   ]
  },
  {
   "cell_type": "code",
   "execution_count": 15,
   "id": "6511be03-228e-4f30-a472-92fe781a4883",
   "metadata": {},
   "outputs": [],
   "source": [
    "import time"
   ]
  },
  {
   "cell_type": "code",
   "execution_count": 16,
   "id": "ceaa8115-9705-4d1f-ad09-273a39d8784f",
   "metadata": {},
   "outputs": [
    {
     "name": "stdout",
     "output_type": "stream",
     "text": [
      "no text data in row with id 1109\n",
      "no text data in row with id 1277\n",
      "no text data in row with id 1407\n",
      "no text data in row with id 1639\n",
      "no text data in row with id 2755\n",
      "time taken: 142.81837391853333 secs\n"
     ]
    }
   ],
   "source": [
    "timestamp_start = time.time()\n",
    "for idx, row in text_data.iterrows():\n",
    "    if isinstance(row['Text'], str):\n",
    "        nlp_preprocessing(row['Text'], idx, 'Text')\n",
    "    else:\n",
    "        print(f'no text data in row with id {idx}') \n",
    "timestamp_end = time.time()\n",
    "print(f'time taken: {timestamp_end - timestamp_start} secs') "
   ]
  },
  {
   "cell_type": "code",
   "execution_count": 17,
   "id": "388197fe-86cb-4228-994f-247667e7b8de",
   "metadata": {},
   "outputs": [
    {
     "name": "stdout",
     "output_type": "stream",
     "text": [
      "(3321, 2)\n"
     ]
    },
    {
     "data": {
      "text/html": [
       "<div>\n",
       "<style scoped>\n",
       "    .dataframe tbody tr th:only-of-type {\n",
       "        vertical-align: middle;\n",
       "    }\n",
       "\n",
       "    .dataframe tbody tr th {\n",
       "        vertical-align: top;\n",
       "    }\n",
       "\n",
       "    .dataframe thead th {\n",
       "        text-align: right;\n",
       "    }\n",
       "</style>\n",
       "<table border=\"1\" class=\"dataframe\">\n",
       "  <thead>\n",
       "    <tr style=\"text-align: right;\">\n",
       "      <th></th>\n",
       "      <th>ID</th>\n",
       "      <th>Text</th>\n",
       "    </tr>\n",
       "  </thead>\n",
       "  <tbody>\n",
       "    <tr>\n",
       "      <th>0</th>\n",
       "      <td>0</td>\n",
       "      <td>cyclin dependent kinases cdks regulate variety...</td>\n",
       "    </tr>\n",
       "    <tr>\n",
       "      <th>1</th>\n",
       "      <td>1</td>\n",
       "      <td>abstract background non small cell lung cancer...</td>\n",
       "    </tr>\n",
       "    <tr>\n",
       "      <th>2</th>\n",
       "      <td>2</td>\n",
       "      <td>abstract background non small cell lung cancer...</td>\n",
       "    </tr>\n",
       "    <tr>\n",
       "      <th>3</th>\n",
       "      <td>3</td>\n",
       "      <td>recent evidence demonstrated acquired uniparen...</td>\n",
       "    </tr>\n",
       "    <tr>\n",
       "      <th>4</th>\n",
       "      <td>4</td>\n",
       "      <td>oncogenic mutations monomeric casitas b lineag...</td>\n",
       "    </tr>\n",
       "  </tbody>\n",
       "</table>\n",
       "</div>"
      ],
      "text/plain": [
       "   ID                                               Text\n",
       "0   0  cyclin dependent kinases cdks regulate variety...\n",
       "1   1  abstract background non small cell lung cancer...\n",
       "2   2  abstract background non small cell lung cancer...\n",
       "3   3  recent evidence demonstrated acquired uniparen...\n",
       "4   4  oncogenic mutations monomeric casitas b lineag..."
      ]
     },
     "execution_count": 17,
     "metadata": {},
     "output_type": "execute_result"
    }
   ],
   "source": [
    "print(f'{text_data.shape}')\n",
    "text_data.head()"
   ]
  },
  {
   "cell_type": "markdown",
   "id": "be82a386-d539-4da7-b07c-da021f6717c7",
   "metadata": {},
   "source": [
    "combining text data and variation data"
   ]
  },
  {
   "cell_type": "code",
   "execution_count": 18,
   "id": "3bf0f09b-1cb2-4ed0-9f80-3a6fe0e97f41",
   "metadata": {},
   "outputs": [],
   "source": [
    "res_data = pd.merge(data, text_data, on='ID', how='left')"
   ]
  },
  {
   "cell_type": "code",
   "execution_count": 19,
   "id": "28fc9c49-768a-4102-ae6f-4728a893161e",
   "metadata": {},
   "outputs": [
    {
     "name": "stdout",
     "output_type": "stream",
     "text": [
      "shape: (3321, 5)\n",
      "\n"
     ]
    },
    {
     "data": {
      "text/html": [
       "<div>\n",
       "<style scoped>\n",
       "    .dataframe tbody tr th:only-of-type {\n",
       "        vertical-align: middle;\n",
       "    }\n",
       "\n",
       "    .dataframe tbody tr th {\n",
       "        vertical-align: top;\n",
       "    }\n",
       "\n",
       "    .dataframe thead th {\n",
       "        text-align: right;\n",
       "    }\n",
       "</style>\n",
       "<table border=\"1\" class=\"dataframe\">\n",
       "  <thead>\n",
       "    <tr style=\"text-align: right;\">\n",
       "      <th></th>\n",
       "      <th>ID</th>\n",
       "      <th>Gene</th>\n",
       "      <th>Variation</th>\n",
       "      <th>Class</th>\n",
       "      <th>Text</th>\n",
       "    </tr>\n",
       "  </thead>\n",
       "  <tbody>\n",
       "    <tr>\n",
       "      <th>0</th>\n",
       "      <td>0</td>\n",
       "      <td>FAM58A</td>\n",
       "      <td>Truncating Mutations</td>\n",
       "      <td>1</td>\n",
       "      <td>cyclin dependent kinases cdks regulate variety...</td>\n",
       "    </tr>\n",
       "    <tr>\n",
       "      <th>1</th>\n",
       "      <td>1</td>\n",
       "      <td>CBL</td>\n",
       "      <td>W802*</td>\n",
       "      <td>2</td>\n",
       "      <td>abstract background non small cell lung cancer...</td>\n",
       "    </tr>\n",
       "    <tr>\n",
       "      <th>2</th>\n",
       "      <td>2</td>\n",
       "      <td>CBL</td>\n",
       "      <td>Q249E</td>\n",
       "      <td>2</td>\n",
       "      <td>abstract background non small cell lung cancer...</td>\n",
       "    </tr>\n",
       "    <tr>\n",
       "      <th>3</th>\n",
       "      <td>3</td>\n",
       "      <td>CBL</td>\n",
       "      <td>N454D</td>\n",
       "      <td>3</td>\n",
       "      <td>recent evidence demonstrated acquired uniparen...</td>\n",
       "    </tr>\n",
       "    <tr>\n",
       "      <th>4</th>\n",
       "      <td>4</td>\n",
       "      <td>CBL</td>\n",
       "      <td>L399V</td>\n",
       "      <td>4</td>\n",
       "      <td>oncogenic mutations monomeric casitas b lineag...</td>\n",
       "    </tr>\n",
       "  </tbody>\n",
       "</table>\n",
       "</div>"
      ],
      "text/plain": [
       "   ID    Gene             Variation  Class  \\\n",
       "0   0  FAM58A  Truncating Mutations      1   \n",
       "1   1     CBL                 W802*      2   \n",
       "2   2     CBL                 Q249E      2   \n",
       "3   3     CBL                 N454D      3   \n",
       "4   4     CBL                 L399V      4   \n",
       "\n",
       "                                                Text  \n",
       "0  cyclin dependent kinases cdks regulate variety...  \n",
       "1  abstract background non small cell lung cancer...  \n",
       "2  abstract background non small cell lung cancer...  \n",
       "3  recent evidence demonstrated acquired uniparen...  \n",
       "4  oncogenic mutations monomeric casitas b lineag...  "
      ]
     },
     "execution_count": 19,
     "metadata": {},
     "output_type": "execute_result"
    }
   ],
   "source": [
    "print(f'shape: {res_data.shape}\\n')\n",
    "res_data.head()"
   ]
  },
  {
   "cell_type": "markdown",
   "id": "76c9c68c-914b-4b0c-bf0e-7e04d8e9107d",
   "metadata": {},
   "source": [
    "for those rows that do not have text data"
   ]
  },
  {
   "cell_type": "code",
   "execution_count": 20,
   "id": "7ce2b948-1b52-4710-83b4-1db35f41977a",
   "metadata": {},
   "outputs": [
    {
     "name": "stdout",
     "output_type": "stream",
     "text": [
      "        ID    Gene             Variation  Class Text\n",
      "1109  1109   FANCA                S1088F      1  NaN\n",
      "1277  1277  ARID5B  Truncating Mutations      1  NaN\n",
      "1407  1407   FGFR3                 K508M      6  NaN\n",
      "1639  1639    FLT1         Amplification      6  NaN\n",
      "2755  2755    BRAF                 G596C      7  NaN\n"
     ]
    }
   ],
   "source": [
    "missing_text_rows = res_data[res_data['Text'].isna() | (res_data['Text'].str.strip() == '')]\n",
    "print(missing_text_rows)"
   ]
  },
  {
   "cell_type": "code",
   "execution_count": 21,
   "id": "94118d88-63c7-49a3-94f5-23229720035f",
   "metadata": {},
   "outputs": [],
   "source": [
    "def fill_missing_text(row, reference_df):\n",
    "    if pd.isna(row['Text']):\n",
    "        # find matching row(s) with same Gene & Variation and non-null Text\n",
    "        match = reference_df[\n",
    "            (reference_df['Gene'] == row['Gene']) &\n",
    "            (reference_df['Variation'] == row['Variation']) &\n",
    "            (reference_df['Text'].notna())\n",
    "        ]\n",
    "        if not match.empty:\n",
    "            return match.iloc[0]['Text']  \n",
    "        else:\n",
    "            print(f'found no exact match for row with id {row['ID']}')\n",
    "    return row['Text']\n"
   ]
  },
  {
   "cell_type": "code",
   "execution_count": 22,
   "id": "c23d0909-ba41-4658-a318-bed8b5c85e3f",
   "metadata": {},
   "outputs": [
    {
     "name": "stdout",
     "output_type": "stream",
     "text": [
      "found no exact match for row with id 1109\n",
      "found no exact match for row with id 1277\n",
      "found no exact match for row with id 1407\n",
      "found no exact match for row with id 1639\n",
      "found no exact match for row with id 2755\n"
     ]
    }
   ],
   "source": [
    "res_data['Text'] = res_data.apply(lambda row: fill_missing_text(row, res_data), axis=1)"
   ]
  },
  {
   "cell_type": "code",
   "execution_count": 23,
   "id": "316f1d95-3c7c-4622-8719-b43ebe0e2661",
   "metadata": {},
   "outputs": [
    {
     "name": "stdout",
     "output_type": "stream",
     "text": [
      "        ID    Gene             Variation  Class Text\n",
      "1109  1109   FANCA                S1088F      1  NaN\n",
      "1277  1277  ARID5B  Truncating Mutations      1  NaN\n",
      "1407  1407   FGFR3                 K508M      6  NaN\n",
      "1639  1639    FLT1         Amplification      6  NaN\n",
      "2755  2755    BRAF                 G596C      7  NaN\n"
     ]
    }
   ],
   "source": [
    "missing_text_rows = res_data[res_data['Text'].isna() | (res_data['Text'].str.strip() == '')]\n",
    "print(missing_text_rows)"
   ]
  },
  {
   "cell_type": "markdown",
   "id": "9552bd57-d75e-4219-9bcd-4253fafcc4ef",
   "metadata": {},
   "source": [
    "can't find the exact matches so we'll just use the gene name + variation name"
   ]
  },
  {
   "cell_type": "code",
   "execution_count": 24,
   "id": "e1065934-3e37-46d2-b31d-d9eae8a27276",
   "metadata": {},
   "outputs": [],
   "source": [
    "# loc(row, col)\n",
    "res_data.loc[res_data['Text'].isnull(), 'Text'] = (\n",
    "    res_data.loc[res_data['Text'].isnull(), 'Gene'].astype(str) + ' ' +\n",
    "    res_data.loc[res_data['Text'].isnull(), 'Variation'].astype(str)\n",
    ")"
   ]
  },
  {
   "cell_type": "code",
   "execution_count": 25,
   "id": "70060f53-6f00-49de-b145-792d0e43ca80",
   "metadata": {},
   "outputs": [
    {
     "name": "stdout",
     "output_type": "stream",
     "text": [
      "Empty DataFrame\n",
      "Columns: [ID, Gene, Variation, Class, Text]\n",
      "Index: []\n"
     ]
    }
   ],
   "source": [
    "missing_text_rows = res_data[res_data['Text'].isna() | (res_data['Text'].str.strip() == '')]\n",
    "print(missing_text_rows)"
   ]
  },
  {
   "cell_type": "markdown",
   "id": "0482883b-2f7c-4aa5-85f7-e439167cd2f8",
   "metadata": {
    "jp-MarkdownHeadingCollapsed": true
   },
   "source": [
    "### splitting the data"
   ]
  },
  {
   "cell_type": "code",
   "execution_count": 26,
   "id": "e82494b8-033b-4e95-a8a2-c567bff90d75",
   "metadata": {},
   "outputs": [
    {
     "name": "stdout",
     "output_type": "stream",
     "text": [
      "labels: [1 2 2 ... 1 4 4]\n"
     ]
    }
   ],
   "source": [
    "y_true = res_data['Class'].values\n",
    "print(f'labels: {y_true}')"
   ]
  },
  {
   "cell_type": "code",
   "execution_count": 27,
   "id": "67754276-e4b3-4be3-9886-b4cacaed81b6",
   "metadata": {},
   "outputs": [],
   "source": [
    "res_data['Gene'] = res_data['Gene'].str.replace('\\s+', '_', regex=True)\n",
    "res_data['Variation'] = res_data['Variation'].str.replace('\\s+', '_', regex=True)"
   ]
  },
  {
   "cell_type": "code",
   "execution_count": 28,
   "id": "1b1c5dc4-9f2e-4e00-87fc-f9b8bc9ad046",
   "metadata": {},
   "outputs": [
    {
     "data": {
      "text/html": [
       "<div>\n",
       "<style scoped>\n",
       "    .dataframe tbody tr th:only-of-type {\n",
       "        vertical-align: middle;\n",
       "    }\n",
       "\n",
       "    .dataframe tbody tr th {\n",
       "        vertical-align: top;\n",
       "    }\n",
       "\n",
       "    .dataframe thead th {\n",
       "        text-align: right;\n",
       "    }\n",
       "</style>\n",
       "<table border=\"1\" class=\"dataframe\">\n",
       "  <thead>\n",
       "    <tr style=\"text-align: right;\">\n",
       "      <th></th>\n",
       "      <th>ID</th>\n",
       "      <th>Gene</th>\n",
       "      <th>Variation</th>\n",
       "      <th>Class</th>\n",
       "      <th>Text</th>\n",
       "    </tr>\n",
       "  </thead>\n",
       "  <tbody>\n",
       "    <tr>\n",
       "      <th>0</th>\n",
       "      <td>0</td>\n",
       "      <td>FAM58A</td>\n",
       "      <td>Truncating_Mutations</td>\n",
       "      <td>1</td>\n",
       "      <td>cyclin dependent kinases cdks regulate variety...</td>\n",
       "    </tr>\n",
       "    <tr>\n",
       "      <th>1</th>\n",
       "      <td>1</td>\n",
       "      <td>CBL</td>\n",
       "      <td>W802*</td>\n",
       "      <td>2</td>\n",
       "      <td>abstract background non small cell lung cancer...</td>\n",
       "    </tr>\n",
       "    <tr>\n",
       "      <th>2</th>\n",
       "      <td>2</td>\n",
       "      <td>CBL</td>\n",
       "      <td>Q249E</td>\n",
       "      <td>2</td>\n",
       "      <td>abstract background non small cell lung cancer...</td>\n",
       "    </tr>\n",
       "    <tr>\n",
       "      <th>3</th>\n",
       "      <td>3</td>\n",
       "      <td>CBL</td>\n",
       "      <td>N454D</td>\n",
       "      <td>3</td>\n",
       "      <td>recent evidence demonstrated acquired uniparen...</td>\n",
       "    </tr>\n",
       "    <tr>\n",
       "      <th>4</th>\n",
       "      <td>4</td>\n",
       "      <td>CBL</td>\n",
       "      <td>L399V</td>\n",
       "      <td>4</td>\n",
       "      <td>oncogenic mutations monomeric casitas b lineag...</td>\n",
       "    </tr>\n",
       "  </tbody>\n",
       "</table>\n",
       "</div>"
      ],
      "text/plain": [
       "   ID    Gene             Variation  Class  \\\n",
       "0   0  FAM58A  Truncating_Mutations      1   \n",
       "1   1     CBL                 W802*      2   \n",
       "2   2     CBL                 Q249E      2   \n",
       "3   3     CBL                 N454D      3   \n",
       "4   4     CBL                 L399V      4   \n",
       "\n",
       "                                                Text  \n",
       "0  cyclin dependent kinases cdks regulate variety...  \n",
       "1  abstract background non small cell lung cancer...  \n",
       "2  abstract background non small cell lung cancer...  \n",
       "3  recent evidence demonstrated acquired uniparen...  \n",
       "4  oncogenic mutations monomeric casitas b lineag...  "
      ]
     },
     "execution_count": 28,
     "metadata": {},
     "output_type": "execute_result"
    }
   ],
   "source": [
    "res_data.head()"
   ]
  },
  {
   "cell_type": "markdown",
   "id": "009b52b6-82e0-49fa-acb0-bcd1f236fb89",
   "metadata": {},
   "source": [
    "replaced spaces with underscores"
   ]
  },
  {
   "cell_type": "code",
   "execution_count": 29,
   "id": "bc4623d4-a23a-4296-bad3-849d4afeaa39",
   "metadata": {},
   "outputs": [],
   "source": [
    "from sklearn.model_selection import train_test_split"
   ]
  },
  {
   "cell_type": "code",
   "execution_count": 30,
   "id": "cb2bf36e-0f72-4fdf-8f73-8d081855e96e",
   "metadata": {},
   "outputs": [],
   "source": [
    "X_train_full, X_test, y_train_full, y_test = train_test_split(\n",
    "    res_data, y_true, stratify=y_true, test_size=0.2, random_state=42\n",
    ")"
   ]
  },
  {
   "cell_type": "code",
   "execution_count": 31,
   "id": "e39898e7-827f-4fb6-82e1-78198df5cacf",
   "metadata": {},
   "outputs": [],
   "source": [
    "X_train, X_val, y_train, y_val = train_test_split(\n",
    "    X_train_full, y_train_full, stratify=y_train_full, test_size=0.2, random_state=42\n",
    ")"
   ]
  },
  {
   "cell_type": "markdown",
   "id": "39288cd4-0a5d-4ccd-84da-1c202036e4af",
   "metadata": {},
   "source": [
    "- (X_train, y_train) is the training set \n",
    "- (X_val, y_val) is CV set\n",
    "- (X_test, y_test) is test set"
   ]
  },
  {
   "cell_type": "code",
   "execution_count": 32,
   "id": "1732d974-13b8-4e38-a2fd-c9d4f005ed53",
   "metadata": {},
   "outputs": [
    {
     "name": "stdout",
     "output_type": "stream",
     "text": [
      "train data: (2124, 5)\n",
      "train data: (532, 5)\n",
      "train data: (665, 5)\n"
     ]
    }
   ],
   "source": [
    "print(f'train data: {X_train.shape}')\n",
    "print(f'train data: {X_val.shape}')\n",
    "print(f'train data: {X_test.shape}')"
   ]
  },
  {
   "cell_type": "markdown",
   "id": "37ecdc8b-1789-4110-bf31-c1370fda6c43",
   "metadata": {},
   "source": [
    "### plotting class distributions "
   ]
  },
  {
   "cell_type": "code",
   "execution_count": 33,
   "id": "f99e5f39-4674-4446-b7e0-1247fac4f5a2",
   "metadata": {},
   "outputs": [],
   "source": [
    "import matplotlib.pyplot as plt\n",
    "import seaborn as sns"
   ]
  },
  {
   "cell_type": "code",
   "execution_count": 34,
   "id": "4fc94155-ccdc-4567-886d-5c6fc3b190f5",
   "metadata": {},
   "outputs": [],
   "source": [
    "def plot_class_distribution(y, title):\n",
    "    plt.figure(figsize=(3,3))\n",
    "    sns.countplot(x=y, hue=y, palette='crest', linewidth=0.7, legend=False)\n",
    "    plt.title(title, fontsize=12)\n",
    "    plt.xlabel('')\n",
    "    plt.ylabel('Count', fontsize=10)\n",
    "    plt.xticks(fontsize=9)\n",
    "    plt.yticks(fontsize=9)\n",
    "    plt.tight_layout()\n",
    "    plt.show()"
   ]
  },
  {
   "cell_type": "code",
   "execution_count": 35,
   "id": "cf4be93a-e945-4ca6-a8d0-13b42eca45eb",
   "metadata": {},
   "outputs": [
    {
     "data": {
      "image/png": "[encoded data removed]",
      "text/plain": [
       "<Figure size 300x300 with 1 Axes>"
      ]
     },
     "metadata": {},
     "output_type": "display_data"
    },
    {
     "name": "stdout",
     "output_type": "stream",
     "text": [
      "\n"
     ]
    },
    {
     "data": {
      "image/png": "[encoded data removed]",
      "text/plain": [
       "<Figure size 300x300 with 1 Axes>"
      ]
     },
     "metadata": {},
     "output_type": "display_data"
    },
    {
     "name": "stdout",
     "output_type": "stream",
     "text": [
      "\n"
     ]
    },
    {
     "data": {
      "image/png": "[encoded data removed]",
      "text/plain": [
       "<Figure size 300x300 with 1 Axes>"
      ]
     },
     "metadata": {},
     "output_type": "display_data"
    }
   ],
   "source": [
    "plot_class_distribution(y_train, 'Training Set Class Distribution')\n",
    "print()\n",
    "plot_class_distribution(y_val, 'Validation Set Class Distribution')\n",
    "print()\n",
    "plot_class_distribution(y_test, 'Test Set Class Distribution')"
   ]
  },
  {
   "cell_type": "markdown",
   "id": "b6e85c6d-3a7d-48de-922a-5501683f47b1",
   "metadata": {},
   "source": [
    "### analysis of gene\n",
    "\n",
    "Here, gene is a categorical random variable. "
   ]
  },
  {
   "cell_type": "code",
   "execution_count": 36,
   "id": "9d016945-48a9-40ce-8765-62448c3dc254",
   "metadata": {},
   "outputs": [
    {
     "data": {
      "text/plain": [
       "Gene\n",
       "BRCA1    154\n",
       "TP53     104\n",
       "EGFR      89\n",
       "PTEN      88\n",
       "BRCA2     83\n",
       "        ... \n",
       "RARA       1\n",
       "FGF4       1\n",
       "FGFR4      1\n",
       "NSD1       1\n",
       "MEN1       1\n",
       "Name: count, Length: 236, dtype: int64"
      ]
     },
     "execution_count": 36,
     "metadata": {},
     "output_type": "execute_result"
    }
   ],
   "source": [
    "X_train['Gene'].value_counts()"
   ]
  },
  {
   "cell_type": "markdown",
   "id": "a658eaf0-19eb-4d47-81d6-aad7f0aaf1d6",
   "metadata": {},
   "source": [
    "The distribution is skewed. The top ones occur a lot of times. "
   ]
  },
  {
   "cell_type": "markdown",
   "id": "6add83b4-6daa-4b2d-b916-5d579eb6a368",
   "metadata": {},
   "source": [
    "#### Featurizing Gene using response coding"
   ]
  },
  {
   "cell_type": "markdown",
   "id": "a37072af-5ad9-4b73-b97e-965bc1474f6a",
   "metadata": {},
   "source": [
    "`Gene` takes many values. One-hot encoding would be inefficient. <br>\n",
    "`Class` is categorical. <br>\n",
    "If it were ordinal or binary, we'd have used Mean target class (Encoded value for gene G =  Mean(Class) for rows with Gene G. <br>\n",
    "But it is multiclass. We'll use probability per class. "
   ]
  },
  {
   "cell_type": "markdown",
   "id": "53a218b2-6e78-4d69-9fe7-8e4529bd76ce",
   "metadata": {},
   "source": [
    "We'll make one column per class. <br>\n",
    "| Gene | P(Class=1) | P(Class=2) | ... |\n",
    "| ---- | ---------- | ---------- | --- |\n",
    "| CBL  | 0.1        | 0.4        | ... |\n"
   ]
  },
  {
   "cell_type": "markdown",
   "id": "b914f6d0-c23e-452f-8c58-7622118c7adc",
   "metadata": {},
   "source": [
    "For each unique `Gene`, we'll calculate: \n",
    "$$\n",
    "P(Class=c_i∣Gene=g)\n",
    "$$\n",
    "So for each `Gene`, we'll get a vector of probabilities: \n",
    "| Gene   | P(Class=1) | P(Class=2) | P(Class=3) |\n",
    "| ------ | ---------- | ---------- | ---------- |\n",
    "| CBL    | 0.1        | 0.6        | 0.3        |\n",
    "| FAM58A | 1.0        | 0.0        | 0.0        |\n"
   ]
  },
  {
   "cell_type": "markdown",
   "id": "0c2b75ed-4a17-47de-a53a-ebeca96c55d4",
   "metadata": {},
   "source": [
    "The distribution is a long-tailed distribution. \n",
    "We could overfit using naive class probability encoding. \n",
    "We'll just use smoothing. \n",
    "$$\n",
    "\\text{Smoothed Probability} = \\frac{ n_i \\cdot p_i + \\alpha \\cdot p_{global} }{ n_i + \\alpha }\n",
    "$$\n",
    "$n_i$ = # of samples for that gene\n",
    "$p_i$ = empirical probability for that gene\n",
    "$p_{global}$ = overall class probability\n",
    "$\\alpha$ = smoothing factor"
   ]
  },
  {
   "cell_type": "code",
   "execution_count": 40,
   "id": "02ff5897-2264-4e28-a349-a3fa223bd5bf",
   "metadata": {},
   "outputs": [],
   "source": [
    "import numpy as np"
   ]
  },
  {
   "cell_type": "code",
   "execution_count": 41,
   "id": "3892fe4b-3757-455c-9986-11c29cc55bf5",
   "metadata": {},
   "outputs": [],
   "source": [
    "def build_smoothed_prob_dict(df, feature_col, target_col='Class', alpha=1):\n",
    "    '''\n",
    "    for each value in feature_col, we'll build a vector of smoothed probabilities\n",
    "\n",
    "    feature_col = 'Gene', target_col = 'Class' \n",
    "    higher the alpha (smoothing factor), more the global influence\n",
    "\n",
    "    returns a dict mapping feature value to a 9-dim vector (probabilities corresp to each class)\n",
    "    '''\n",
    "\n",
    "    # calc global class probabilities \n",
    "    global_class_counts = df[target_col].value_counts().sort_index()\n",
    "    global_class_probs = global_class_counts / global_class_counts.sum()\n",
    "    global_class_probs = global_class_probs.to_numpy()\n",
    "\n",
    "    prob_dict = {}\n",
    "\n",
    "    # process each unique val in feature\n",
    "    for value in df[feature_col].unique():\n",
    "        subset = df[df[feature_col] == value]\n",
    "        count = len(subset)\n",
    "\n",
    "        # get empirical class distribution for this feature value \n",
    "        value_class_counts = subset[target_col].value_counts().sort_index()\n",
    "        value_class_probs = np.zeros(9)\n",
    "\n",
    "        for cls in range(1, 10):\n",
    "            value_class_probs[cls-1] = value_class_counts.get(cls, 0)\n",
    "\n",
    "        value_class_probs = value_class_probs / count if count > 0 else np.zeros(9)\n",
    "\n",
    "        smoothed = (count * value_class_probs + alpha * global_class_probs) / (count + alpha)\n",
    "        prob_dict[value] = smoothed\n",
    "\n",
    "    return prob_dict"
   ]
  },
  {
   "cell_type": "code",
   "execution_count": 42,
   "id": "1116b66b-37f0-4726-929d-013dbf615d05",
   "metadata": {},
   "outputs": [],
   "source": [
    "def encode_feature_with_prob_vectors(df, feature_col, prob_dict):\n",
    "    # encode a categorical column \n",
    "\n",
    "    encoded = []\n",
    "\n",
    "    for val in df[feature_col]:\n",
    "        if val in prob_dict:\n",
    "            encoded.append(prob_dict[val])\n",
    "        else:\n",
    "            encoded.append(np.ones(9)/9)    # for unseen ones\n",
    "\n",
    "    return np.array(encoded)"
   ]
  },
  {
   "cell_type": "code",
   "execution_count": 44,
   "id": "a3d1bbe7-b331-41a8-be1f-de56c8ea20de",
   "metadata": {},
   "outputs": [
    {
     "name": "stdout",
     "output_type": "stream",
     "text": [
      "{'ETV6': array([0.14636299, 0.142008  , 0.00335452, 0.40083569, 0.00912194,\n",
      "       0.01035782, 0.2858404 , 0.00070621, 0.00141243]), 'RUNX1': array([1.86523762e-01, 8.00376648e-03, 1.57859754e-03, 6.59216794e-01,\n",
      "       4.29267752e-03, 6.36977955e-02, 7.56895979e-02, 3.32336324e-04,\n",
      "       6.64672649e-04]), 'TP53': array([5.34960990e-01, 1.08196574e-02, 1.93032015e-02, 3.54349386e-01,\n",
      "       1.97426240e-02, 4.84082145e-02, 2.73069680e-03, 5.38068335e-05,\n",
      "       9.63142319e-03]), 'ALK': array([3.88418079e-03, 7.12741825e-02, 1.14246276e-01, 4.69739771e-03,\n",
      "       6.98403527e-02, 1.88323917e-03, 7.33789163e-01, 1.28402671e-04,\n",
      "       2.56805342e-04]), 'AR': array([1.27700233e-01, 8.00376648e-03, 1.57859754e-03, 1.21579705e-02,\n",
      "       1.80763266e-01, 1.81344854e-01, 4.87454304e-01, 3.32336324e-04,\n",
      "       6.64672649e-04]), 'BRCA2': array([1.44891714e-01, 1.61980988e-03, 3.19478074e-04, 2.62700655e-02,\n",
      "       1.55630661e-01, 6.67653125e-01, 3.41337100e-03, 6.72585418e-05,\n",
      "       1.34517084e-04]), 'NRAS': array([1.55367232e-02, 2.85096730e-01, 2.43965074e-03, 1.87895908e-02,\n",
      "       6.63413799e-03, 9.84420476e-02, 5.71520288e-01, 5.13610683e-04,\n",
      "       1.02722137e-03]), 'BRCA1': array([2.26909058e-01, 8.77832452e-04, 4.53344268e-02, 1.62623777e-01,\n",
      "       3.68212745e-01, 1.94082984e-01, 1.84982686e-03, 3.64497904e-05,\n",
      "       7.28995808e-05]), 'EGFR': array([1.30100439e-02, 3.12622934e-01, 1.14092906e-02, 3.56298389e-02,\n",
      "       8.10839088e-04, 1.20318058e-02, 6.03185813e-01, 1.11738858e-02,\n",
      "       1.25549278e-04]), 'NKX2-1': array([0.05696798, 0.71202134, 0.00894539, 0.06889517, 0.02432517,\n",
      "       0.02762084, 0.09557439, 0.00188324, 0.00376648]), 'CHEK2': array([0.03418079, 0.02721281, 0.20536723, 0.4413371 , 0.0145951 ,\n",
      "       0.2165725 , 0.05734463, 0.00112994, 0.00225989]), 'TMPRSS2': array([0.03418079, 0.42721281, 0.20536723, 0.0413371 , 0.0145951 ,\n",
      "       0.0165725 , 0.25734463, 0.00112994, 0.00225989]), 'ERCC2': array([7.82377227e-01, 8.73895408e-02, 2.06431986e-03, 1.58988845e-02,\n",
      "       8.25365783e-02, 6.37404027e-03, 2.20556280e-02, 4.34593655e-04,\n",
      "       8.69187310e-04]), 'NFE2L2': array([1.06814972e-02, 7.10040019e-02, 1.67725989e-03, 1.29178437e-02,\n",
      "       4.56096987e-03, 5.17890772e-03, 8.92920198e-01, 3.53107345e-04,\n",
      "       7.06214689e-04]), 'BRAF': array([2.80170418e-03, 3.30099410e-01, 4.39937020e-04, 3.38828687e-03,\n",
      "       5.03766478e-02, 3.41452873e-02, 5.78470872e-01, 9.26183199e-05,\n",
      "       1.85236640e-04]), 'SMO': array([1.13935970e-02, 3.42404269e-01, 1.78907721e-03, 1.37790333e-02,\n",
      "       7.15317012e-02, 1.38857502e-01, 4.19114878e-01, 3.76647834e-04,\n",
      "       7.53295669e-04]), 'NF1': array([9.75753296e-02, 1.13386692e-02, 2.23634652e-03, 8.50557125e-01,\n",
      "       6.08129316e-03, 6.90521030e-03, 2.38935970e-02, 4.70809793e-04,\n",
      "       9.41619586e-04]), 'MSH2': array([1.44726930e-01, 9.07093534e-03, 1.78907721e-03, 6.80445700e-01,\n",
      "       1.38198368e-01, 5.52416824e-03, 1.91148776e-02, 3.76647834e-04,\n",
      "       7.53295669e-04]), 'PTPRT': array([4.74684920e-01, 1.04664639e-02, 2.06431986e-03, 4.77437346e-01,\n",
      "       5.61350138e-03, 6.37404027e-03, 2.20556280e-02, 4.34593655e-04,\n",
      "       8.69187310e-04]), 'ERBB2': array([4.06914178e-03, 2.17525334e-01, 6.38956147e-04, 1.00159179e-01,\n",
      "       7.31660838e-02, 1.44830060e-01, 4.35398171e-01, 2.39440409e-02,\n",
      "       2.69034167e-04]), 'CBL': array([1.13935970e-02, 1.42404269e-01, 1.78907721e-03, 6.80445700e-01,\n",
      "       1.38198368e-01, 5.52416824e-03, 1.91148776e-02, 3.76647834e-04,\n",
      "       7.53295669e-04]), 'JAK1': array([9.00695350e-02, 1.04664639e-02, 2.06431986e-03, 1.58988845e-02,\n",
      "       5.61350138e-03, 6.37404027e-03, 8.68209474e-01, 4.34593655e-04,\n",
      "       8.69187310e-04]), 'NOTCH1': array([5.85451977e-02, 5.56803202e-01, 1.34180791e-03, 1.03342750e-02,\n",
      "       3.64877589e-03, 4.14312618e-03, 3.64336158e-01, 2.82485876e-04,\n",
      "       5.64971751e-04]), 'AKT1': array([7.12099812e-03, 8.90026679e-02, 1.26118173e-01, 8.61189579e-03,\n",
      "       8.63739799e-02, 3.45260515e-03, 6.36946798e-01, 4.19020716e-02,\n",
      "       4.70809793e-04]), 'CDKN2A': array([1.15858443e-01, 3.77955639e-03, 7.45448839e-04, 8.66852375e-01,\n",
      "       2.02709772e-03, 2.30173677e-03, 7.96453233e-03, 1.56936598e-04,\n",
      "       3.13873195e-04]), 'TGFBR2': array([0.29272599, 0.28401601, 0.00670904, 0.30167137, 0.01824388,\n",
      "       0.02071563, 0.07168079, 0.00141243, 0.00282486]), 'FGFR3': array([5.32229070e-02, 1.88002910e-01, 1.21982537e-03, 9.39479541e-03,\n",
      "       1.85135251e-01, 3.76647834e-03, 5.58487417e-01, 2.56805342e-04,\n",
      "       5.13610683e-04]), 'PTEN': array([3.56281343e-02, 1.52880933e-03, 4.52453501e-02, 9.01198713e-01,\n",
      "       8.19949639e-04, 9.31039590e-04, 1.44575636e-02, 6.34799721e-05,\n",
      "       1.26959944e-04]), 'ARID5B': array([0.58545198, 0.06803202, 0.01341808, 0.10334275, 0.03648776,\n",
      "       0.04143126, 0.14336158, 0.00282486, 0.00564972]), 'KMT2C': array([0.54272599, 0.03401601, 0.00670904, 0.05167137, 0.26824388,\n",
      "       0.02071563, 0.07168079, 0.00141243, 0.00282486]), 'TSC2': array([4.74090749e-01, 4.25200094e-03, 8.38629944e-04, 4.75208922e-01,\n",
      "       2.28048493e-03, 2.58945386e-03, 4.02100989e-02, 1.76553672e-04,\n",
      "       3.53107345e-04]), 'FBXW7': array([3.85681497e-01, 7.10040019e-02, 1.67725989e-03, 3.87917844e-01,\n",
      "       1.29560970e-01, 5.17890772e-03, 1.79201977e-02, 3.53107345e-04,\n",
      "       7.06214689e-04]), 'IGF1R': array([0.29272599, 0.53401601, 0.00670904, 0.05167137, 0.01824388,\n",
      "       0.02071563, 0.07168079, 0.00141243, 0.00282486]), 'B2M': array([0.19515066, 0.02267734, 0.00447269, 0.70111425, 0.01216259,\n",
      "       0.01381042, 0.04778719, 0.00094162, 0.00188324]), 'CTNNB1': array([8.99494499e-03, 5.97928437e-02, 1.41242938e-03, 1.08781842e-02,\n",
      "       3.84081673e-03, 4.36118545e-03, 9.09827535e-01, 2.97353553e-04,\n",
      "       5.94707107e-04]), 'DDR2': array([0.01898933, 0.12622934, 0.0029818 , 0.02296506, 0.00810839,\n",
      "       0.23142917, 0.58741368, 0.00062775, 0.00125549]), 'ELF3': array([0.43418079, 0.02721281, 0.00536723, 0.0413371 , 0.4145951 ,\n",
      "       0.0165725 , 0.05734463, 0.00112994, 0.00225989]), 'HRAS': array([8.99494499e-03, 6.38740212e-01, 1.41242938e-03, 1.08781842e-02,\n",
      "       3.84081673e-03, 4.36118545e-03, 3.30880167e-01, 2.97353553e-04,\n",
      "       5.94707107e-04]), 'VHL': array([3.63246570e-01, 4.85942965e-03, 9.58434221e-04, 5.43095911e-01,\n",
      "       3.83205542e-02, 3.86736616e-02, 1.02401130e-02, 2.01775626e-04,\n",
      "       4.03551251e-04]), 'DNMT3B': array([0.05696798, 0.37868801, 0.00894539, 0.06889517, 0.02432517,\n",
      "       0.02762084, 0.09557439, 0.33521657, 0.00376648]), 'PMS2': array([0.2170904 , 0.0136064 , 0.00268362, 0.32066855, 0.40729755,\n",
      "       0.00828625, 0.02867232, 0.00056497, 0.00112994]), 'PIK3CA': array([4.74733208e-03, 1.98224001e-01, 7.45448839e-04, 5.74126386e-03,\n",
      "       1.68693764e-01, 5.78572923e-02, 5.63520088e-01, 1.56936598e-04,\n",
      "       3.13873195e-04]), 'FLT3': array([3.54819380e-02, 1.25335274e-01, 2.12934429e-01, 6.26319694e-03,\n",
      "       2.21137933e-03, 2.51098556e-03, 6.14749187e-01, 1.71203561e-04,\n",
      "       3.42407122e-04]), 'KIT': array([2.67037429e-03, 3.92751000e-01, 1.60443150e-02, 3.22946092e-03,\n",
      "       1.14024247e-03, 1.69197269e-02, 5.66980049e-01, 8.82768362e-05,\n",
      "       1.76553672e-04]), 'FANCA': array([0.36181733, 0.02267734, 0.00447269, 0.53444758, 0.01216259,\n",
      "       0.01381042, 0.04778719, 0.00094162, 0.00188324]), 'ROS1': array([1.06814972e-02, 6.33504002e-01, 1.67725989e-03, 1.29178437e-02,\n",
      "       4.56096987e-03, 5.17890772e-03, 3.30420198e-01, 3.53107345e-04,\n",
      "       7.06214689e-04]), 'YAP1': array([0.04272599, 0.53401601, 0.00670904, 0.05167137, 0.01824388,\n",
      "       0.02071563, 0.32168079, 0.00141243, 0.00282486]), 'PDGFRA': array([2.78786656e-02, 5.08586674e-02, 1.91115147e-01, 4.92108331e-03,\n",
      "       4.93565599e-02, 1.97291723e-03, 6.73493409e-01, 1.34517084e-04,\n",
      "       2.69034167e-04]), 'JAK2': array([9.49466416e-03, 2.29781335e-01, 1.49089768e-03, 1.14825277e-02,\n",
      "       4.05419544e-03, 3.93492362e-01, 3.49262398e-01, 3.13873195e-04,\n",
      "       6.27746390e-04]), 'CDKN2B': array([0.03418079, 0.02721281, 0.00536723, 0.8413371 , 0.0145951 ,\n",
      "       0.0165725 , 0.05734463, 0.00112994, 0.00225989]), 'RAD50': array([0.08545198, 0.06803202, 0.01341808, 0.60334275, 0.03648776,\n",
      "       0.04143126, 0.14336158, 0.00282486, 0.00564972]), 'PIK3R1': array([3.77415998e-01, 7.16126474e-03, 1.41242938e-03, 5.89825553e-01,\n",
      "       3.84081673e-03, 4.36118545e-03, 1.50906928e-02, 2.97353553e-04,\n",
      "       5.94707107e-04]), 'RAF1': array([1.55367232e-02, 2.85096730e-01, 2.43965074e-03, 1.87895908e-02,\n",
      "       6.63413799e-03, 7.53295669e-03, 6.62429379e-01, 5.13610683e-04,\n",
      "       1.02722137e-03]), 'TCF3': array([0.08545198, 0.06803202, 0.01341808, 0.60334275, 0.03648776,\n",
      "       0.04143126, 0.14336158, 0.00282486, 0.00564972]), 'PTPN11': array([5.57573312e-02, 1.96955430e-01, 1.27791229e-03, 1.05080262e-01,\n",
      "       3.47502466e-03, 9.91839297e-02, 5.37463008e-01, 2.69034167e-04,\n",
      "       5.38068335e-04]), 'NCOR1': array([0.58545198, 0.06803202, 0.01341808, 0.10334275, 0.03648776,\n",
      "       0.04143126, 0.14336158, 0.00282486, 0.00564972]), 'BRIP1': array([0.36181733, 0.02267734, 0.00447269, 0.36778092, 0.01216259,\n",
      "       0.18047709, 0.04778719, 0.00094162, 0.00188324]), 'MAP2K1': array([6.10371267e-03, 1.83430858e-01, 9.58434221e-04, 4.30959107e-02,\n",
      "       7.40348399e-02, 7.43879473e-02, 6.17382970e-01, 2.01775626e-04,\n",
      "       4.03551251e-04]), 'AGO2': array([0.63418079, 0.22721281, 0.00536723, 0.0413371 , 0.0145951 ,\n",
      "       0.0165725 , 0.05734463, 0.00112994, 0.00225989]), 'FOXA1': array([0.69515066, 0.18934401, 0.00447269, 0.03444758, 0.01216259,\n",
      "       0.01381042, 0.04778719, 0.00094162, 0.00188324]), 'RET': array([6.83615819e-03, 2.45442561e-01, 1.07344633e-03, 8.82674200e-02,\n",
      "       2.02919021e-01, 3.31450094e-03, 4.51468927e-01, 2.25988701e-04,\n",
      "       4.51977401e-04]), 'KEAP1': array([1.97354905e-01, 1.23694573e-02, 2.43965074e-03, 7.46062318e-01,\n",
      "       6.63413799e-03, 7.53295669e-03, 2.60657422e-02, 5.13610683e-04,\n",
      "       1.02722137e-03]), 'EPAS1': array([2.44148507e-02, 8.76580576e-01, 3.83373688e-03, 2.95264999e-02,\n",
      "       1.04250740e-02, 1.18375034e-02, 4.09604520e-02, 8.07102502e-04,\n",
      "       1.61420500e-03]), 'CCND1': array([1.55367232e-02, 2.85096730e-01, 2.43965074e-03, 1.87895908e-02,\n",
      "       6.63413799e-03, 7.53295669e-03, 6.62429379e-01, 5.13610683e-04,\n",
      "       1.02722137e-03]), 'ESR1': array([1.55367232e-02, 1.94187639e-01, 9.33487417e-02, 1.87895908e-02,\n",
      "       6.63413799e-03, 7.53295669e-03, 6.62429379e-01, 5.13610683e-04,\n",
      "       1.02722137e-03]), 'DICER1': array([0.58545198, 0.06803202, 0.01341808, 0.10334275, 0.03648776,\n",
      "       0.04143126, 0.14336158, 0.00282486, 0.00564972]), 'STAT3': array([0.02136299, 0.267008  , 0.00335452, 0.02583569, 0.00912194,\n",
      "       0.01035782, 0.6608404 , 0.00070621, 0.00141243]), 'MEF2B': array([0.04272599, 0.28401601, 0.00670904, 0.55167137, 0.01824388,\n",
      "       0.02071563, 0.07168079, 0.00141243, 0.00282486]), 'MSH6': array([0.4170904 , 0.0136064 , 0.00268362, 0.32066855, 0.20729755,\n",
      "       0.00828625, 0.02867232, 0.00056497, 0.00112994]), 'NTRK3': array([0.05696798, 0.37868801, 0.00894539, 0.06889517, 0.02432517,\n",
      "       0.02762084, 0.42890772, 0.00188324, 0.00376648]), 'MTOR': array([6.10371267e-03, 1.47716573e-01, 2.50958434e-01, 7.38162497e-03,\n",
      "       3.83205542e-02, 2.95937584e-03, 5.45954399e-01, 2.01775626e-04,\n",
      "       4.03551251e-04]), 'FGFR2': array([1.48960856e-01, 1.12002287e-01, 9.58434221e-04, 7.38162497e-03,\n",
      "       1.81177697e-01, 1.10102233e-01, 4.38811542e-01, 2.01775626e-04,\n",
      "       4.03551251e-04]), 'MAP2K4': array([0.16727199, 0.01943772, 0.00383374, 0.74381221, 0.01042507,\n",
      "       0.0118375 , 0.04096045, 0.0008071 , 0.00161421]), 'U2AF1': array([0.04272599, 0.03401601, 0.00670904, 0.05167137, 0.01824388,\n",
      "       0.02071563, 0.07168079, 0.00141243, 0.75282486]), 'AKT2': array([0.02441485, 0.01943772, 0.00383374, 0.0295265 , 0.01042507,\n",
      "       0.0118375 , 0.61238902, 0.0008071 , 0.28732849]), 'PTPRD': array([0.83418079, 0.02721281, 0.00536723, 0.0413371 , 0.0145951 ,\n",
      "       0.0165725 , 0.05734463, 0.00112994, 0.00225989]), 'SMAD3': array([4.21817880e-01, 8.00376648e-03, 6.04021270e-02, 4.82746206e-01,\n",
      "       4.29267752e-03, 4.87426609e-03, 1.68660685e-02, 3.32336324e-04,\n",
      "       6.64672649e-04]), 'MAP3K1': array([0.05696798, 0.04535468, 0.00894539, 0.06889517, 0.35765851,\n",
      "       0.36095417, 0.09557439, 0.00188324, 0.00376648]), 'IDH1': array([0.01553672, 0.01236946, 0.00243965, 0.20060777, 0.3702705 ,\n",
      "       0.00753296, 0.11697483, 0.0914227 , 0.1828454 ]), 'ATM': array([0.29272599, 0.03401601, 0.00670904, 0.30167137, 0.26824388,\n",
      "       0.02071563, 0.07168079, 0.00141243, 0.00282486]), 'PPP2R1A': array([7.71362994e-01, 1.70080038e-02, 3.35451977e-03, 2.58356874e-02,\n",
      "       9.12193974e-03, 1.03578154e-02, 1.60840395e-01, 7.06214689e-04,\n",
      "       1.41242938e-03]), 'IKBKE': array([0.08545198, 0.56803202, 0.01341808, 0.10334275, 0.03648776,\n",
      "       0.04143126, 0.14336158, 0.00282486, 0.00564972]), 'DUSP4': array([0.08545198, 0.06803202, 0.01341808, 0.10334275, 0.03648776,\n",
      "       0.54143126, 0.14336158, 0.00282486, 0.00564972]), 'RB1': array([0.64636299, 0.017008  , 0.00335452, 0.02583569, 0.13412194,\n",
      "       0.13535782, 0.0358404 , 0.00070621, 0.00141243]), 'ARAF': array([0.04272599, 0.03401601, 0.00670904, 0.05167137, 0.01824388,\n",
      "       0.02071563, 0.82168079, 0.00141243, 0.00282486]), 'ERG': array([0.04272599, 0.28401601, 0.00670904, 0.05167137, 0.01824388,\n",
      "       0.02071563, 0.57168079, 0.00141243, 0.00282486]), 'SF3B1': array([0.014242  , 0.01133867, 0.00223635, 0.01722379, 0.00608129,\n",
      "       0.00690521, 0.0238936 , 0.08380414, 0.83427495]), 'MYCN': array([0.05696798, 0.37868801, 0.00894539, 0.06889517, 0.02432517,\n",
      "       0.02762084, 0.42890772, 0.00188324, 0.00376648]), 'TET2': array([0.3170904 , 0.0136064 , 0.00268362, 0.12066855, 0.10729755,\n",
      "       0.40828625, 0.02867232, 0.00056497, 0.00112994]), 'KRAS': array([6.32977610e-03, 1.53187557e-01, 9.93931785e-04, 7.65501848e-03,\n",
      "       2.70279696e-03, 4.01060194e-02, 7.88397154e-01, 2.09248797e-04,\n",
      "       4.18497594e-04]), 'ERBB4': array([1.89893283e-02, 1.51182256e-02, 2.98179535e-03, 2.29650555e-02,\n",
      "       8.10839088e-03, 2.31429169e-01, 6.98524796e-01, 6.27746390e-04,\n",
      "       1.25549278e-03]), 'SPOP': array([1.55064568e-01, 9.71885930e-03, 1.91686844e-03, 8.00477536e-01,\n",
      "       5.21253699e-03, 5.91875168e-03, 2.04802260e-02, 4.03551251e-04,\n",
      "       8.07102502e-04]), 'NF2': array([6.17090395e-01, 1.36064030e-02, 2.68361582e-03, 2.06685499e-02,\n",
      "       2.07297552e-01, 1.08286252e-01, 2.86723164e-02, 5.64971751e-04,\n",
      "       1.12994350e-03]), 'MGA': array([0.58545198, 0.06803202, 0.01341808, 0.10334275, 0.03648776,\n",
      "       0.04143126, 0.14336158, 0.00282486, 0.00564972]), 'APC': array([0.63418079, 0.02721281, 0.00536723, 0.2413371 , 0.0145951 ,\n",
      "       0.0165725 , 0.05734463, 0.00112994, 0.00225989]), 'EP300': array([0.02848399, 0.18934401, 0.00447269, 0.70111425, 0.01216259,\n",
      "       0.01381042, 0.04778719, 0.00094162, 0.00188324]), 'CDH1': array([0.45298628, 0.01943772, 0.00383374, 0.45809793, 0.01042507,\n",
      "       0.0118375 , 0.04096045, 0.0008071 , 0.00161421]), 'BAP1': array([0.16727199, 0.01943772, 0.00383374, 0.74381221, 0.01042507,\n",
      "       0.0118375 , 0.04096045, 0.0008071 , 0.00161421]), 'AKT3': array([0.04272599, 0.28401601, 0.00670904, 0.05167137, 0.01824388,\n",
      "       0.02071563, 0.57168079, 0.00141243, 0.00282486]), 'PIK3R2': array([0.19515066, 0.02267734, 0.00447269, 0.03444758, 0.34549592,\n",
      "       0.01381042, 0.38112053, 0.00094162, 0.00188324]), 'PDGFRB': array([1.44726930e-01, 4.75737602e-01, 1.78907721e-03, 8.04456999e-02,\n",
      "       4.86503453e-03, 7.21908349e-02, 2.19114878e-01, 3.76647834e-04,\n",
      "       7.53295669e-04]), 'GNAS': array([0.04272599, 0.28401601, 0.00670904, 0.05167137, 0.01824388,\n",
      "       0.02071563, 0.57168079, 0.00141243, 0.00282486]), 'PIK3CB': array([0.01898933, 0.45956267, 0.0029818 , 0.02296506, 0.00810839,\n",
      "       0.00920695, 0.47630257, 0.00062775, 0.00125549]), 'RAD21': array([0.58545198, 0.06803202, 0.01341808, 0.10334275, 0.03648776,\n",
      "       0.04143126, 0.14336158, 0.00282486, 0.00564972]), 'RHEB': array([0.04272599, 0.03401601, 0.00670904, 0.05167137, 0.01824388,\n",
      "       0.02071563, 0.82168079, 0.00141243, 0.00282486]), 'SMAD2': array([5.39464939e-01, 8.00376648e-03, 1.57859754e-03, 7.09814999e-02,\n",
      "       1.21939736e-01, 2.40168384e-01, 1.68660685e-02, 3.32336324e-04,\n",
      "       6.64672649e-04]), 'PBRM1': array([0.54272599, 0.03401601, 0.00670904, 0.30167137, 0.01824388,\n",
      "       0.02071563, 0.07168079, 0.00141243, 0.00282486]), 'MLH1': array([2.86836158e-01, 5.44256121e-03, 1.07344633e-03, 2.08267420e-01,\n",
      "       1.62919021e-01, 3.23314501e-01, 1.14689266e-02, 2.25988701e-04,\n",
      "       4.51977401e-04]), 'POLE': array([0.35232266, 0.01511823, 0.0029818 , 0.57852061, 0.00810839,\n",
      "       0.00920695, 0.03185813, 0.00062775, 0.00125549]), 'SMAD4': array([3.85681497e-01, 8.50400188e-03, 1.67725989e-03, 3.87917844e-01,\n",
      "       4.56096987e-03, 1.92678908e-01, 1.79201977e-02, 3.53107345e-04,\n",
      "       7.06214689e-04]), 'ERBB3': array([0.02136299, 0.017008  , 0.00335452, 0.02583569, 0.13412194,\n",
      "       0.13535782, 0.6608404 , 0.00070621, 0.00141243]), 'CASP8': array([0.23418079, 0.02721281, 0.20536723, 0.2413371 , 0.0145951 ,\n",
      "       0.0165725 , 0.25734463, 0.00112994, 0.00225989]), 'BCL2': array([0.08545198, 0.06803202, 0.01341808, 0.10334275, 0.03648776,\n",
      "       0.04143126, 0.64336158, 0.00282486, 0.00564972]), 'MET': array([7.43060673e-03, 1.79828871e-01, 1.16678949e-03, 8.98632605e-03,\n",
      "       3.17284860e-03, 9.05592402e-02, 7.08118398e-01, 2.45639892e-04,\n",
      "       4.91279784e-04]), 'PAX8': array([0.08545198, 0.06803202, 0.01341808, 0.10334275, 0.03648776,\n",
      "       0.04143126, 0.64336158, 0.00282486, 0.00564972]), 'AURKA': array([0.04272599, 0.03401601, 0.00670904, 0.30167137, 0.01824388,\n",
      "       0.02071563, 0.57168079, 0.00141243, 0.00282486]), 'MAPK1': array([0.08545198, 0.06803202, 0.01341808, 0.10334275, 0.03648776,\n",
      "       0.04143126, 0.64336158, 0.00282486, 0.00564972]), 'CDK12': array([0.16727199, 0.01943772, 0.00383374, 0.60095507, 0.15328222,\n",
      "       0.0118375 , 0.04096045, 0.0008071 , 0.00161421]), 'ERCC4': array([0.19515066, 0.02267734, 0.00447269, 0.70111425, 0.01216259,\n",
      "       0.01381042, 0.04778719, 0.00094162, 0.00188324]), 'MPL': array([0.05696798, 0.71202134, 0.00894539, 0.06889517, 0.02432517,\n",
      "       0.02762084, 0.09557439, 0.00188324, 0.00376648]), 'LATS2': array([0.08545198, 0.06803202, 0.01341808, 0.60334275, 0.03648776,\n",
      "       0.04143126, 0.14336158, 0.00282486, 0.00564972]), 'ARID2': array([0.58545198, 0.06803202, 0.01341808, 0.10334275, 0.03648776,\n",
      "       0.04143126, 0.14336158, 0.00282486, 0.00564972]), 'CDKN1A': array([0.54272599, 0.03401601, 0.00670904, 0.05167137, 0.01824388,\n",
      "       0.27071563, 0.07168079, 0.00141243, 0.00282486]), 'CARM1': array([0.58545198, 0.06803202, 0.01341808, 0.10334275, 0.03648776,\n",
      "       0.04143126, 0.14336158, 0.00282486, 0.00564972]), 'IDH2': array([0.08545198, 0.06803202, 0.01341808, 0.10334275, 0.03648776,\n",
      "       0.04143126, 0.14336158, 0.00282486, 0.50564972]), 'EZH2': array([0.02848399, 0.02267734, 0.00447269, 0.03444758, 0.01216259,\n",
      "       0.01381042, 0.21445386, 0.00094162, 0.66854991]), 'SMARCA4': array([0.29272599, 0.03401601, 0.00670904, 0.55167137, 0.01824388,\n",
      "       0.02071563, 0.07168079, 0.00141243, 0.00282486]), 'FGFR1': array([1.06445814e-01, 1.23694573e-02, 2.43965074e-03, 1.87895908e-02,\n",
      "       9.75432289e-02, 7.53295669e-03, 7.53338469e-01, 5.13610683e-04,\n",
      "       1.02722137e-03]), 'ABL1': array([8.54519774e-03, 8.56803202e-01, 1.34180791e-03, 1.03342750e-02,\n",
      "       3.64877589e-03, 4.14312618e-03, 1.14336158e-01, 2.82485876e-04,\n",
      "       5.64971751e-04]), 'CDKN2C': array([0.58545198, 0.06803202, 0.01341808, 0.10334275, 0.03648776,\n",
      "       0.04143126, 0.14336158, 0.00282486, 0.00564972]), 'PTCH1': array([0.39030132, 0.04535468, 0.00894539, 0.06889517, 0.35765851,\n",
      "       0.02762084, 0.09557439, 0.00188324, 0.00376648]), 'STK11': array([1.97354905e-01, 1.23694573e-02, 2.43965074e-03, 6.55153227e-01,\n",
      "       9.75432289e-02, 7.53295669e-03, 2.60657422e-02, 5.13610683e-04,\n",
      "       1.02722137e-03]), 'EWSR1': array([0.02136299, 0.517008  , 0.00335452, 0.02583569, 0.00912194,\n",
      "       0.01035782, 0.4108404 , 0.00070621, 0.00141243]), 'TSC1': array([1.44726930e-01, 9.07093534e-03, 2.68455744e-01, 5.47112367e-01,\n",
      "       4.86503453e-03, 5.52416824e-03, 1.91148776e-02, 3.76647834e-04,\n",
      "       7.53295669e-04]), 'ETV1': array([0.04272599, 0.28401601, 0.00670904, 0.05167137, 0.01824388,\n",
      "       0.02071563, 0.57168079, 0.00141243, 0.00282486]), 'HNF1A': array([0.54272599, 0.03401601, 0.25670904, 0.05167137, 0.01824388,\n",
      "       0.02071563, 0.07168079, 0.00141243, 0.00282486]), 'KMT2A': array([0.29272599, 0.28401601, 0.00670904, 0.05167137, 0.01824388,\n",
      "       0.27071563, 0.07168079, 0.00141243, 0.00282486]), 'MED12': array([0.39030132, 0.37868801, 0.00894539, 0.06889517, 0.02432517,\n",
      "       0.02762084, 0.09557439, 0.00188324, 0.00376648]), 'MYD88': array([0.05696798, 0.04535468, 0.00894539, 0.06889517, 0.02432517,\n",
      "       0.02762084, 0.76224105, 0.00188324, 0.00376648]), 'CARD11': array([1.55367232e-02, 2.85096730e-01, 2.43965074e-03, 1.87895908e-02,\n",
      "       6.63413799e-03, 7.53295669e-03, 6.62429379e-01, 5.13610683e-04,\n",
      "       1.02722137e-03]), 'SOS1': array([0.04272599, 0.28401601, 0.00670904, 0.05167137, 0.01824388,\n",
      "       0.02071563, 0.57168079, 0.00141243, 0.00282486]), 'KDR': array([0.02441485, 0.305152  , 0.00383374, 0.0295265 , 0.01042507,\n",
      "       0.29755179, 0.32667474, 0.0008071 , 0.00161421]), 'MYOD1': array([0.08545198, 0.56803202, 0.01341808, 0.10334275, 0.03648776,\n",
      "       0.04143126, 0.14336158, 0.00282486, 0.00564972]), 'FAT1': array([0.39030132, 0.04535468, 0.00894539, 0.4022285 , 0.02432517,\n",
      "       0.02762084, 0.09557439, 0.00188324, 0.00376648]), 'RNF43': array([0.58545198, 0.06803202, 0.01341808, 0.10334275, 0.03648776,\n",
      "       0.04143126, 0.14336158, 0.00282486, 0.00564972]), 'SRC': array([0.05696798, 0.37868801, 0.00894539, 0.06889517, 0.02432517,\n",
      "       0.02762084, 0.42890772, 0.00188324, 0.00376648]), 'RAB35': array([0.08545198, 0.06803202, 0.01341808, 0.10334275, 0.03648776,\n",
      "       0.04143126, 0.64336158, 0.00282486, 0.00564972]), 'CCND3': array([0.05696798, 0.71202134, 0.00894539, 0.06889517, 0.02432517,\n",
      "       0.02762084, 0.09557439, 0.00188324, 0.00376648]), 'NTRK2': array([0.05696798, 0.37868801, 0.00894539, 0.06889517, 0.35765851,\n",
      "       0.02762084, 0.09557439, 0.00188324, 0.00376648]), 'SDHB': array([0.08545198, 0.06803202, 0.01341808, 0.60334275, 0.03648776,\n",
      "       0.04143126, 0.14336158, 0.00282486, 0.00564972]), 'RHOA': array([0.3170904 , 0.0136064 , 0.00268362, 0.52066855, 0.00729755,\n",
      "       0.00828625, 0.12867232, 0.00056497, 0.00112994]), 'ARID1A': array([0.58545198, 0.06803202, 0.01341808, 0.10334275, 0.03648776,\n",
      "       0.04143126, 0.14336158, 0.00282486, 0.00564972]), 'RASA1': array([0.79272599, 0.03401601, 0.00670904, 0.05167137, 0.01824388,\n",
      "       0.02071563, 0.07168079, 0.00141243, 0.00282486]), 'BCL10': array([0.72363465, 0.04535468, 0.00894539, 0.06889517, 0.02432517,\n",
      "       0.02762084, 0.09557439, 0.00188324, 0.00376648]), 'CREBBP': array([0.43418079, 0.02721281, 0.00536723, 0.0413371 , 0.4145951 ,\n",
      "       0.0165725 , 0.05734463, 0.00112994, 0.00225989]), 'NPM1': array([0.58545198, 0.06803202, 0.01341808, 0.10334275, 0.03648776,\n",
      "       0.04143126, 0.14336158, 0.00282486, 0.00564972]), 'ATRX': array([0.58545198, 0.06803202, 0.01341808, 0.10334275, 0.03648776,\n",
      "       0.04143126, 0.14336158, 0.00282486, 0.00564972]), 'FOXL2': array([0.08545198, 0.06803202, 0.01341808, 0.10334275, 0.03648776,\n",
      "       0.54143126, 0.14336158, 0.00282486, 0.00564972]), 'ERCC3': array([0.58545198, 0.06803202, 0.01341808, 0.10334275, 0.03648776,\n",
      "       0.04143126, 0.14336158, 0.00282486, 0.00564972]), 'NOTCH2': array([0.39030132, 0.37868801, 0.00894539, 0.06889517, 0.02432517,\n",
      "       0.02762084, 0.09557439, 0.00188324, 0.00376648]), 'NTRK1': array([1.42419962e-02, 1.78005336e-01, 2.23634652e-03, 1.00557125e-01,\n",
      "       6.08129316e-03, 6.90521030e-03, 6.90560264e-01, 4.70809793e-04,\n",
      "       9.41619586e-04]), 'AXL': array([0.08545198, 0.56803202, 0.01341808, 0.10334275, 0.03648776,\n",
      "       0.04143126, 0.14336158, 0.00282486, 0.00564972]), 'BARD1': array([0.58545198, 0.06803202, 0.01341808, 0.10334275, 0.03648776,\n",
      "       0.04143126, 0.14336158, 0.00282486, 0.00564972]), 'TERT': array([0.03418079, 0.02721281, 0.00536723, 0.2413371 , 0.0145951 ,\n",
      "       0.0165725 , 0.65734463, 0.00112994, 0.00225989]), 'RBM10': array([0.54272599, 0.03401601, 0.00670904, 0.30167137, 0.01824388,\n",
      "       0.02071563, 0.07168079, 0.00141243, 0.00282486]), 'KDM6A': array([0.58545198, 0.06803202, 0.01341808, 0.10334275, 0.03648776,\n",
      "       0.04143126, 0.14336158, 0.00282486, 0.00564972]), 'CTCF': array([0.54272599, 0.03401601, 0.00670904, 0.05167137, 0.01824388,\n",
      "       0.02071563, 0.07168079, 0.00141243, 0.25282486]), 'CDKN1B': array([0.72363465, 0.04535468, 0.00894539, 0.06889517, 0.02432517,\n",
      "       0.02762084, 0.09557439, 0.00188324, 0.00376648]), 'DNMT3A': array([0.08545198, 0.56803202, 0.01341808, 0.10334275, 0.03648776,\n",
      "       0.04143126, 0.14336158, 0.00282486, 0.00564972]), 'KDM5C': array([0.03418079, 0.22721281, 0.00536723, 0.6413371 , 0.0145951 ,\n",
      "       0.0165725 , 0.05734463, 0.00112994, 0.00225989]), 'EPCAM': array([0.08545198, 0.06803202, 0.01341808, 0.60334275, 0.03648776,\n",
      "       0.04143126, 0.14336158, 0.00282486, 0.00564972]), 'TGFBR1': array([0.27136299, 0.017008  , 0.00335452, 0.65083569, 0.00912194,\n",
      "       0.01035782, 0.0358404 , 0.00070621, 0.00141243]), 'KNSTRN': array([0.08545198, 0.06803202, 0.01341808, 0.60334275, 0.03648776,\n",
      "       0.04143126, 0.14336158, 0.00282486, 0.00564972]), 'PIM1': array([0.19515066, 0.18934401, 0.00447269, 0.03444758, 0.01216259,\n",
      "       0.51381042, 0.04778719, 0.00094162, 0.00188324]), 'GNA11': array([0.08545198, 0.06803202, 0.01341808, 0.10334275, 0.03648776,\n",
      "       0.04143126, 0.64336158, 0.00282486, 0.00564972]), 'SRSF2': array([0.08545198, 0.06803202, 0.01341808, 0.60334275, 0.03648776,\n",
      "       0.04143126, 0.14336158, 0.00282486, 0.00564972]), 'PIK3CD': array([0.05696798, 0.04535468, 0.00894539, 0.06889517, 0.02432517,\n",
      "       0.02762084, 0.76224105, 0.00188324, 0.00376648]), 'MYC': array([0.04272599, 0.53401601, 0.00670904, 0.05167137, 0.01824388,\n",
      "       0.02071563, 0.32168079, 0.00141243, 0.00282486]), 'SMARCB1': array([0.58545198, 0.06803202, 0.01341808, 0.10334275, 0.03648776,\n",
      "       0.04143126, 0.14336158, 0.00282486, 0.00564972]), 'GATA3': array([0.29272599, 0.28401601, 0.00670904, 0.30167137, 0.01824388,\n",
      "       0.02071563, 0.07168079, 0.00141243, 0.00282486]), 'FAM58A': array([0.58545198, 0.06803202, 0.01341808, 0.10334275, 0.03648776,\n",
      "       0.04143126, 0.14336158, 0.00282486, 0.00564972]), 'PPP6C': array([0.05696798, 0.04535468, 0.00894539, 0.73556183, 0.02432517,\n",
      "       0.02762084, 0.09557439, 0.00188324, 0.00376648]), 'MAP2K2': array([0.02441485, 0.16229486, 0.00383374, 0.0295265 , 0.01042507,\n",
      "       0.29755179, 0.46953188, 0.0008071 , 0.00161421]), 'BTK': array([0.05696798, 0.37868801, 0.00894539, 0.4022285 , 0.02432517,\n",
      "       0.02762084, 0.09557439, 0.00188324, 0.00376648]), 'SOX9': array([0.43418079, 0.02721281, 0.20536723, 0.2413371 , 0.0145951 ,\n",
      "       0.0165725 , 0.05734463, 0.00112994, 0.00225989]), 'RAC1': array([0.05696798, 0.04535468, 0.00894539, 0.06889517, 0.02432517,\n",
      "       0.02762084, 0.76224105, 0.00188324, 0.00376648]), 'XRCC2': array([0.72363465, 0.04535468, 0.00894539, 0.06889517, 0.02432517,\n",
      "       0.02762084, 0.09557439, 0.00188324, 0.00376648]), 'TP53BP1': array([0.72363465, 0.04535468, 0.00894539, 0.06889517, 0.02432517,\n",
      "       0.02762084, 0.09557439, 0.00188324, 0.00376648]), 'PRDM1': array([0.05696798, 0.04535468, 0.00894539, 0.73556183, 0.02432517,\n",
      "       0.02762084, 0.09557439, 0.00188324, 0.00376648]), 'BCOR': array([0.05696798, 0.04535468, 0.00894539, 0.06889517, 0.02432517,\n",
      "       0.02762084, 0.09557439, 0.66854991, 0.00376648]), 'ATR': array([0.58545198, 0.06803202, 0.01341808, 0.10334275, 0.03648776,\n",
      "       0.04143126, 0.14336158, 0.00282486, 0.00564972]), 'CDK4': array([0.08545198, 0.06803202, 0.01341808, 0.10334275, 0.03648776,\n",
      "       0.04143126, 0.64336158, 0.00282486, 0.00564972]), 'MDM2': array([0.08545198, 0.06803202, 0.01341808, 0.10334275, 0.03648776,\n",
      "       0.04143126, 0.64336158, 0.00282486, 0.00564972]), 'CDK6': array([0.05696798, 0.04535468, 0.00894539, 0.4022285 , 0.02432517,\n",
      "       0.02762084, 0.42890772, 0.00188324, 0.00376648]), 'NFKBIA': array([0.04272599, 0.53401601, 0.00670904, 0.05167137, 0.01824388,\n",
      "       0.02071563, 0.32168079, 0.00141243, 0.00282486]), 'RAD51D': array([0.58545198, 0.06803202, 0.01341808, 0.10334275, 0.03648776,\n",
      "       0.04143126, 0.14336158, 0.00282486, 0.00564972]), 'WHSC1L1': array([0.08545198, 0.06803202, 0.01341808, 0.10334275, 0.03648776,\n",
      "       0.54143126, 0.14336158, 0.00282486, 0.00564972]), 'CCNE1': array([0.05696798, 0.04535468, 0.00894539, 0.06889517, 0.02432517,\n",
      "       0.02762084, 0.76224105, 0.00188324, 0.00376648]), 'RAD54L': array([0.08545198, 0.06803202, 0.01341808, 0.60334275, 0.03648776,\n",
      "       0.04143126, 0.14336158, 0.00282486, 0.00564972]), 'GLI1': array([0.58545198, 0.06803202, 0.01341808, 0.10334275, 0.03648776,\n",
      "       0.04143126, 0.14336158, 0.00282486, 0.00564972]), 'TET1': array([0.39030132, 0.04535468, 0.00894539, 0.06889517, 0.02432517,\n",
      "       0.02762084, 0.42890772, 0.00188324, 0.00376648]), 'H3F3A': array([0.04272599, 0.03401601, 0.00670904, 0.05167137, 0.01824388,\n",
      "       0.02071563, 0.07168079, 0.75141243, 0.00282486]), 'NUP93': array([0.58545198, 0.06803202, 0.01341808, 0.10334275, 0.03648776,\n",
      "       0.04143126, 0.14336158, 0.00282486, 0.00564972]), 'INPP4B': array([0.58545198, 0.06803202, 0.01341808, 0.10334275, 0.03648776,\n",
      "       0.04143126, 0.14336158, 0.00282486, 0.00564972]), 'ERRFI1': array([0.58545198, 0.06803202, 0.01341808, 0.10334275, 0.03648776,\n",
      "       0.04143126, 0.14336158, 0.00282486, 0.00564972]), 'KMT2B': array([0.08545198, 0.06803202, 0.01341808, 0.10334275, 0.03648776,\n",
      "       0.54143126, 0.14336158, 0.00282486, 0.00564972]), 'FOXP1': array([0.58545198, 0.06803202, 0.01341808, 0.10334275, 0.03648776,\n",
      "       0.04143126, 0.14336158, 0.00282486, 0.00564972]), 'RIT1': array([0.08545198, 0.06803202, 0.01341808, 0.10334275, 0.03648776,\n",
      "       0.04143126, 0.64336158, 0.00282486, 0.00564972]), 'PPM1D': array([0.08545198, 0.06803202, 0.01341808, 0.10334275, 0.03648776,\n",
      "       0.04143126, 0.64336158, 0.00282486, 0.00564972]), 'ARID1B': array([0.58545198, 0.06803202, 0.01341808, 0.10334275, 0.03648776,\n",
      "       0.04143126, 0.14336158, 0.00282486, 0.00564972]), 'CCND2': array([0.08545198, 0.56803202, 0.01341808, 0.10334275, 0.03648776,\n",
      "       0.04143126, 0.14336158, 0.00282486, 0.00564972]), 'KMT2D': array([0.58545198, 0.06803202, 0.01341808, 0.10334275, 0.03648776,\n",
      "       0.04143126, 0.14336158, 0.00282486, 0.00564972]), 'RXRA': array([0.05696798, 0.04535468, 0.00894539, 0.06889517, 0.02432517,\n",
      "       0.69428751, 0.09557439, 0.00188324, 0.00376648]), 'SETD2': array([0.58545198, 0.06803202, 0.01341808, 0.10334275, 0.03648776,\n",
      "       0.04143126, 0.14336158, 0.00282486, 0.00564972]), 'TCF7L2': array([0.58545198, 0.06803202, 0.01341808, 0.10334275, 0.03648776,\n",
      "       0.04143126, 0.14336158, 0.00282486, 0.00564972]), 'FGF3': array([0.08545198, 0.06803202, 0.01341808, 0.10334275, 0.03648776,\n",
      "       0.54143126, 0.14336158, 0.00282486, 0.00564972]), 'JUN': array([0.08545198, 0.06803202, 0.01341808, 0.10334275, 0.03648776,\n",
      "       0.04143126, 0.64336158, 0.00282486, 0.00564972]), 'RAD51B': array([0.08545198, 0.06803202, 0.01341808, 0.10334275, 0.03648776,\n",
      "       0.04143126, 0.14336158, 0.50282486, 0.00564972]), 'MDM4': array([0.08545198, 0.06803202, 0.01341808, 0.10334275, 0.03648776,\n",
      "       0.04143126, 0.64336158, 0.00282486, 0.00564972]), 'RAD51C': array([0.39030132, 0.04535468, 0.34227872, 0.06889517, 0.02432517,\n",
      "       0.02762084, 0.09557439, 0.00188324, 0.00376648]), 'RICTOR': array([0.08545198, 0.06803202, 0.01341808, 0.10334275, 0.03648776,\n",
      "       0.04143126, 0.64336158, 0.00282486, 0.00564972]), 'RYBP': array([0.58545198, 0.06803202, 0.01341808, 0.10334275, 0.03648776,\n",
      "       0.04143126, 0.14336158, 0.00282486, 0.00564972]), 'SDHC': array([0.08545198, 0.06803202, 0.01341808, 0.60334275, 0.03648776,\n",
      "       0.04143126, 0.14336158, 0.00282486, 0.00564972]), 'HLA-A': array([0.58545198, 0.06803202, 0.01341808, 0.10334275, 0.03648776,\n",
      "       0.04143126, 0.14336158, 0.00282486, 0.00564972]), 'FOXO1': array([0.58545198, 0.06803202, 0.01341808, 0.10334275, 0.03648776,\n",
      "       0.04143126, 0.14336158, 0.00282486, 0.00564972]), 'CIC': array([0.72363465, 0.04535468, 0.00894539, 0.06889517, 0.02432517,\n",
      "       0.02762084, 0.09557439, 0.00188324, 0.00376648]), 'BRD4': array([0.08545198, 0.06803202, 0.01341808, 0.10334275, 0.03648776,\n",
      "       0.04143126, 0.64336158, 0.00282486, 0.00564972]), 'ASXL2': array([0.58545198, 0.06803202, 0.01341808, 0.10334275, 0.03648776,\n",
      "       0.04143126, 0.14336158, 0.00282486, 0.00564972]), 'SHOC2': array([0.08545198, 0.06803202, 0.01341808, 0.60334275, 0.03648776,\n",
      "       0.04143126, 0.14336158, 0.00282486, 0.00564972]), 'AURKB': array([0.08545198, 0.56803202, 0.01341808, 0.10334275, 0.03648776,\n",
      "       0.04143126, 0.14336158, 0.00282486, 0.00564972]), 'FANCC': array([0.58545198, 0.06803202, 0.01341808, 0.10334275, 0.03648776,\n",
      "       0.04143126, 0.14336158, 0.00282486, 0.00564972]), 'RARA': array([0.08545198, 0.06803202, 0.01341808, 0.10334275, 0.03648776,\n",
      "       0.54143126, 0.14336158, 0.00282486, 0.00564972]), 'FGF4': array([0.08545198, 0.06803202, 0.01341808, 0.10334275, 0.03648776,\n",
      "       0.54143126, 0.14336158, 0.00282486, 0.00564972]), 'FGFR4': array([0.08545198, 0.06803202, 0.01341808, 0.10334275, 0.03648776,\n",
      "       0.04143126, 0.64336158, 0.00282486, 0.00564972]), 'NSD1': array([0.08545198, 0.56803202, 0.01341808, 0.10334275, 0.03648776,\n",
      "       0.04143126, 0.14336158, 0.00282486, 0.00564972]), 'MEN1': array([0.08545198, 0.06803202, 0.01341808, 0.60334275, 0.03648776,\n",
      "       0.04143126, 0.14336158, 0.00282486, 0.00564972])}\n"
     ]
    }
   ],
   "source": [
    "alpha = 1\n",
    "\n",
    "gene_prob_dict = build_smoothed_prob_dict(X_train, feature_col='Gene', target_col='Class', alpha=alpha)\n",
    "print(gene_prob_dict)"
   ]
  },
  {
   "cell_type": "code",
   "execution_count": 48,
   "id": "f34e262c-0e05-4e00-9d73-82907c8de5c6",
   "metadata": {},
   "outputs": [],
   "source": [
    "train_gene_feature_responseCoding = encode_feature_with_prob_vectors(X_train, 'Gene', gene_prob_dict)"
   ]
  },
  {
   "cell_type": "code",
   "execution_count": 47,
   "id": "163de708-f933-4b2d-84f8-4af63de61966",
   "metadata": {},
   "outputs": [],
   "source": [
    "test_gene_feature_responseCoding = encode_feature_with_prob_vectors(X_test, 'Gene', gene_prob_dict)\n",
    "cv_gene_feature_responseCoding = encode_feature_with_prob_vectors(X_val, 'Gene', gene_prob_dict)"
   ]
  },
  {
   "cell_type": "code",
   "execution_count": 52,
   "id": "1cd040d4-a12b-49bf-bea9-f7fef82588f2",
   "metadata": {},
   "outputs": [
    {
     "data": {
      "text/plain": [
       "(2124, 9)"
      ]
     },
     "execution_count": 52,
     "metadata": {},
     "output_type": "execute_result"
    }
   ],
   "source": [
    "train_gene_feature_responseCoding.shape"
   ]
  },
  {
   "cell_type": "markdown",
   "id": "258c4139-ec6c-483e-93ad-9104384a3754",
   "metadata": {},
   "source": [
    "#### using one-hot encoding this time"
   ]
  },
  {
   "cell_type": "code",
   "execution_count": null,
   "id": "644ce1e3-ad37-40e0-ac46-4b750662d0d8",
   "metadata": {},
   "outputs": [],
   "source": []
  }
 ],
 "metadata": {
  "kernelspec": {
   "display_name": "Python [conda env:base] *",
   "language": "python",
   "name": "conda-base-py"
  },
  "language_info": {
   "codemirror_mode": {
    "name": "ipython",
    "version": 3
   },
   "file_extension": ".py",
   "mimetype": "text/x-python",
   "name": "python",
   "nbconvert_exporter": "python",
   "pygments_lexer": "ipython3",
   "version": "3.13.5"
  }
 },
 "nbformat": 4,
 "nbformat_minor": 5
}
